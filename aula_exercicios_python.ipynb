{
  "cells": [
    {
      "cell_type": "markdown",
      "id": "7b6db2c9",
      "metadata": {
        "id": "7b6db2c9"
      },
      "source": [
        "## Exercício 1: Verifique se um número é positivo, negativo ou zero.\n",
        "\n",
        " #defina um número\n",
        " #verificar se é > 0\n",
        " #> 0 -> positivo\n",
        " #< 0 -> negativo\n",
        " #caso não, 0\n",
        "\n"
      ]
    },
    {
      "cell_type": "code",
      "source": [
        "  n = float(input('Escreva um número: '))\n",
        "\n",
        "  if n > 0:\n",
        "    print('Positivo')\n",
        "\n",
        "  elif n < 0:\n",
        "    print('Negativo')\n",
        "\n",
        "  else:\n",
        "    print('Zero')"
      ],
      "metadata": {
        "colab": {
          "base_uri": "https://localhost:8080/"
        },
        "id": "Y_X40SDYe-aZ",
        "outputId": "17c8233f-932d-497a-e578-4e0213564de5"
      },
      "id": "Y_X40SDYe-aZ",
      "execution_count": null,
      "outputs": [
        {
          "output_type": "stream",
          "name": "stdout",
          "text": [
            "Escreva um número: 987\n",
            "Positivo\n"
          ]
        }
      ]
    },
    {
      "cell_type": "markdown",
      "id": "70afdbb7",
      "metadata": {
        "id": "70afdbb7"
      },
      "source": [
        "## Exercício 2: Peça dois números e exiba o maior.\n",
        "\n",
        " #Digite 2 números\n",
        " #1º numero > 2º numero -> saída: 1º número\n",
        " #1º numero < 2º numero -> saída: 2º número\n",
        " #senão, números iguais\n",
        "\n",
        "\n"
      ]
    },
    {
      "cell_type": "code",
      "source": [
        "n = float(input('Escreva o 1º número: '))\n",
        "m = float(input('Escreva o 2º número: '))\n",
        "\n",
        "print('\\n')\n",
        "\n",
        "if n > m:\n",
        "  print('O maior número é: ', n)\n",
        "elif n < m:\n",
        "  print('O maior número é: ', m)\n",
        "else:\n",
        "  print('Os números são iguais: ' + str(m) + ' = ' + str(n))"
      ],
      "metadata": {
        "colab": {
          "base_uri": "https://localhost:8080/"
        },
        "id": "N4c7YjYmfmlv",
        "outputId": "818c98ec-cdb1-4fb0-80d4-cef1cc231f9f"
      },
      "id": "N4c7YjYmfmlv",
      "execution_count": null,
      "outputs": [
        {
          "output_type": "stream",
          "name": "stdout",
          "text": [
            "Escreva o 1º número: 8\n",
            "Escreva o 2º número: 7\n",
            "\n",
            "\n",
            "O maior número é:  8.0\n"
          ]
        }
      ]
    },
    {
      "cell_type": "markdown",
      "id": "36fc3988",
      "metadata": {
        "id": "36fc3988"
      },
      "source": [
        "## Exercício 3: Verifique se um número é par ou ímpar.\n",
        "  #Escrever um número\n",
        "  #Função resto por 2\n",
        "  #Se função resto = 0 -> é par\n",
        "  #Senão -> é impar"
      ]
    },
    {
      "cell_type": "code",
      "source": [
        "n = int(input('Escreva um número: '))\n",
        "\n",
        "if (n % 2) == 0:\n",
        "  print('É par')\n",
        "else:\n",
        "  print('É impar')"
      ],
      "metadata": {
        "colab": {
          "base_uri": "https://localhost:8080/"
        },
        "id": "rpR198TKiHQo",
        "outputId": "f6f73706-9c1d-40f5-e01b-12d5efdb6fd6"
      },
      "id": "rpR198TKiHQo",
      "execution_count": null,
      "outputs": [
        {
          "output_type": "stream",
          "name": "stdout",
          "text": [
            "Escreva um número: 87\n",
            "É impar\n"
          ]
        }
      ]
    },
    {
      "cell_type": "markdown",
      "id": "f0288374",
      "metadata": {
        "id": "f0288374"
      },
      "source": [
        "## Exercício 4: Verifique se um ano é bissexto.\n",
        "  #Escrever o ano\n",
        "  #Função ano por 4\n",
        "  #Se função resto = 0 -> é bissexto\n",
        "  #Senão -> não é bissexto\n",
        "  "
      ]
    },
    {
      "cell_type": "code",
      "source": [
        "ano = int(input('Escreva o ano: '))\n",
        "resto = int(ano % 4)\n",
        "if resto == 0:\n",
        "  print('É bissexto')\n",
        "else:\n",
        "  print('Não é bissexto')"
      ],
      "metadata": {
        "colab": {
          "base_uri": "https://localhost:8080/"
        },
        "id": "sV9Y_ukFjE1w",
        "outputId": "6eaf8b40-d1f6-4c0e-c4cc-8f9fc0d65a49"
      },
      "id": "sV9Y_ukFjE1w",
      "execution_count": null,
      "outputs": [
        {
          "output_type": "stream",
          "name": "stdout",
          "text": [
            "Escreva o ano: 2025\n",
            "Não é bissexto\n"
          ]
        }
      ]
    },
    {
      "cell_type": "markdown",
      "id": "970dae23",
      "metadata": {
        "id": "970dae23"
      },
      "source": [
        "## Exercício 5: Peça três números e exiba o maior.\n",
        " #Digitar 3 numeros\n",
        " #a>b>c ou a>c>b = a\n",
        " #b>a>c ou b>c>a = b\n",
        " #c>a>b ou c>b>a = c\n",
        " #a=b=c"
      ]
    },
    {
      "cell_type": "code",
      "source": [
        "num1 = int(input('Digite o primeiro número: '))\n",
        "num2 = int(input('Digite o segundo número: '))\n",
        "num3 = int(input('Digite o terceiro número: '))\n",
        "print('\\nO maior número é', max(num1,num2,num3))\n",
        "\n"
      ],
      "metadata": {
        "colab": {
          "base_uri": "https://localhost:8080/"
        },
        "id": "hI8cdCc-5uoy",
        "outputId": "198928fa-7d59-4efc-8ded-715ccdcab74f"
      },
      "id": "hI8cdCc-5uoy",
      "execution_count": null,
      "outputs": [
        {
          "output_type": "stream",
          "name": "stdout",
          "text": [
            "Digite o primeiro número: 0\n",
            "Digite o segundo número: 0\n",
            "Digite o terceiro número: 0\n",
            "\n",
            "O maior número é 0\n"
          ]
        }
      ]
    },
    {
      "cell_type": "markdown",
      "id": "f7950b6a",
      "metadata": {
        "id": "f7950b6a"
      },
      "source": [
        "## Exercício 6: Verifique se um usuário pode votar (idade >= 18).\n",
        " #digite idade\n",
        " #idade >=18 -> Pode votar\n",
        " #idade < 18 -> não pode votar"
      ]
    },
    {
      "cell_type": "code",
      "source": [
        "idade = int(input('Informe a idade: '))\n",
        "\n",
        "if idade >= 18:\n",
        "    print('Pode votar')\n",
        "\n",
        "else:\n",
        "    print('Não pode votar')"
      ],
      "metadata": {
        "colab": {
          "base_uri": "https://localhost:8080/"
        },
        "id": "gClPuzkd86vv",
        "outputId": "12dcbe90-c8c0-407f-9179-48fdeb14fcc8"
      },
      "id": "gClPuzkd86vv",
      "execution_count": null,
      "outputs": [
        {
          "output_type": "stream",
          "name": "stdout",
          "text": [
            "Informe a idade: 16\n",
            "Não pode votar\n"
          ]
        }
      ]
    },
    {
      "cell_type": "markdown",
      "source": [
        "## Exercício 7: Verifique se já posso ir embora da aula de Análise de Dados sem assinar a folha.\n",
        " #digitar hora atual\n",
        " #ver se a hora atual >= estipulda\n",
        " #se for, pode sair\n",
        " #senão, não pode sair"
      ],
      "metadata": {
        "id": "vI3rAnHNMp8m"
      },
      "id": "vI3rAnHNMp8m"
    },
    {
      "cell_type": "code",
      "source": [
        "from datetime import datetime, time\n",
        "\n",
        "print(datetime.now().time())\n",
        "if datetime.now().time() >= time(00,45,0):\n",
        "  print('Pode')\n",
        "else:\n",
        "  print('Não pode')"
      ],
      "metadata": {
        "colab": {
          "base_uri": "https://localhost:8080/"
        },
        "id": "uZ5bTYIx9qSf",
        "outputId": "f4e339ef-043d-42c7-e5a6-ccdeb4aa0a46"
      },
      "id": "uZ5bTYIx9qSf",
      "execution_count": null,
      "outputs": [
        {
          "output_type": "stream",
          "name": "stdout",
          "text": [
            "00:51:47.227338\n",
            "Pode\n"
          ]
        }
      ]
    },
    {
      "cell_type": "code",
      "source": [
        "diferenca = timedelta(hours=-3)\n",
        "print(diferenca)"
      ],
      "metadata": {
        "colab": {
          "base_uri": "https://localhost:8080/",
          "height": 162
        },
        "id": "9dxDmF03Fh-G",
        "outputId": "ae4d4938-afce-470d-f06e-c70f9d81039d"
      },
      "id": "9dxDmF03Fh-G",
      "execution_count": null,
      "outputs": [
        {
          "output_type": "error",
          "ename": "NameError",
          "evalue": "name 'timedelta' is not defined",
          "traceback": [
            "\u001b[0;31m---------------------------------------------------------------------------\u001b[0m",
            "\u001b[0;31mNameError\u001b[0m                                 Traceback (most recent call last)",
            "\u001b[0;32m<ipython-input-74-e8e01efe57f6>\u001b[0m in \u001b[0;36m<cell line: 0>\u001b[0;34m()\u001b[0m\n\u001b[0;32m----> 1\u001b[0;31m \u001b[0mdiferenca\u001b[0m \u001b[0;34m=\u001b[0m \u001b[0mtimedelta\u001b[0m\u001b[0;34m(\u001b[0m\u001b[0mhours\u001b[0m\u001b[0;34m=\u001b[0m\u001b[0;34m-\u001b[0m\u001b[0;36m3\u001b[0m\u001b[0;34m)\u001b[0m\u001b[0;34m\u001b[0m\u001b[0;34m\u001b[0m\u001b[0m\n\u001b[0m\u001b[1;32m      2\u001b[0m \u001b[0mprint\u001b[0m\u001b[0;34m(\u001b[0m\u001b[0mdiferenca\u001b[0m\u001b[0;34m)\u001b[0m\u001b[0;34m\u001b[0m\u001b[0;34m\u001b[0m\u001b[0m\n",
            "\u001b[0;31mNameError\u001b[0m: name 'timedelta' is not defined"
          ]
        }
      ]
    },
    {
      "cell_type": "markdown",
      "id": "d6b4f5ae",
      "metadata": {
        "id": "d6b4f5ae"
      },
      "source": [
        "## Exercício 8: Verifique se uma senha digitada corresponde a '1234'."
      ]
    },
    {
      "cell_type": "code",
      "source": [
        "senha = int(input('Digite a Senha de Login: '))\n",
        "if senha == 1234:\n",
        "  print('\\nSenha Correta.\\nO login será efetuado.')\n",
        "else:\n",
        "  print('\\nSenha Incorreta.\\nDigite novamente.')"
      ],
      "metadata": {
        "colab": {
          "base_uri": "https://localhost:8080/"
        },
        "id": "fCQ0ysVAgeLF",
        "outputId": "07b0f661-a0da-4bbd-8c1f-ddd98ee3509a"
      },
      "id": "fCQ0ysVAgeLF",
      "execution_count": null,
      "outputs": [
        {
          "output_type": "stream",
          "name": "stdout",
          "text": [
            "Digite a Senha de Login: 1978\n",
            "\n",
            "Senha Incorreta.\n",
            "Digite novamente.\n"
          ]
        }
      ]
    },
    {
      "cell_type": "markdown",
      "id": "b3b40b44",
      "metadata": {
        "id": "b3b40b44"
      },
      "source": [
        "## Exercício 9: Verifique se um número está entre 10 e 50."
      ]
    },
    {
      "cell_type": "code",
      "source": [
        "numero = float (input('Digite um número:'))\n",
        "\n",
        "if (numero >= 10) and (numero < 50):\n",
        "  print('\\nO número está entre 10 e 50.')\n",
        "else:\n",
        "  print('\\nO número não está entre 10 e 50.')"
      ],
      "metadata": {
        "colab": {
          "base_uri": "https://localhost:8080/"
        },
        "id": "bY0OXwRWhHQY",
        "outputId": "676dbad1-3f32-4d30-c43a-4a2430983749"
      },
      "id": "bY0OXwRWhHQY",
      "execution_count": null,
      "outputs": [
        {
          "output_type": "stream",
          "name": "stdout",
          "text": [
            "Digite um número:8\n",
            "\n",
            "O número não está entre 10 e 50.\n"
          ]
        }
      ]
    },
    {
      "cell_type": "code",
      "source": [
        "numero = float (input('Digite um número:'))\n",
        "\n",
        "if 10 < numero < 50:\n",
        "  print('\\nO número está entre 10 e 50.')\n",
        "else:\n",
        "  print('\\nO número não está entre 10 e 50.')"
      ],
      "metadata": {
        "colab": {
          "base_uri": "https://localhost:8080/"
        },
        "id": "_p5fwPqakffK",
        "outputId": "edb42ffd-43d7-4022-bc88-05d302f12704"
      },
      "id": "_p5fwPqakffK",
      "execution_count": null,
      "outputs": [
        {
          "output_type": "stream",
          "name": "stdout",
          "text": [
            "Digite um número:48\n",
            "\n",
            "O número está entre 10 e 50.\n"
          ]
        }
      ]
    },
    {
      "cell_type": "markdown",
      "id": "026219a5",
      "metadata": {
        "id": "026219a5"
      },
      "source": [
        "## Exercício 10: Peça ao usuário um número e exiba 'Alto' se for maior que 100 e 'Baixo' se for menor."
      ]
    },
    {
      "cell_type": "code",
      "source": [
        "numero = float (input('Digite um número:'))\n",
        "\n",
        "if numero > 100:\n",
        "  print('Alto')\n",
        "else:\n",
        "  print('Baixo')"
      ],
      "metadata": {
        "colab": {
          "base_uri": "https://localhost:8080/"
        },
        "id": "jygXdyLCh0d7",
        "outputId": "ac76c788-cbda-4d9f-ac9c-8a30c4703e28"
      },
      "id": "jygXdyLCh0d7",
      "execution_count": null,
      "outputs": [
        {
          "output_type": "stream",
          "name": "stdout",
          "text": [
            "Digite um número:101\n",
            "Alto\n"
          ]
        }
      ]
    },
    {
      "cell_type": "markdown",
      "id": "d329e93a",
      "metadata": {
        "id": "d329e93a"
      },
      "source": [
        "## Exercício 11: Crie um menu onde o usuário pode escolher entre somar, subtrair, multiplicar e dividir dois números."
      ]
    },
    {
      "cell_type": "code",
      "source": [
        "num1 = float(input('Digite o primeiro número: '))\n",
        "num2 = float(input('Digite o segundo número: '))\n",
        "opcao = str(input('\\nEscolha uma das operações:\\n\\nA - Somar\\nB - Subtrair\\nC - Multiplicar\\nD - Dividir\\n'))\n",
        "\n",
        "if opcao == 'a' or opcao == 'A':\n",
        "  soma = num1 + num2\n",
        "  print('\\nSoma:',soma)\n",
        "\n",
        "elif opcao == 'b' or opcao == 'B':\n",
        "  diferenca1 = num1 - num2\n",
        "  diferenca2 = num2 - num1\n",
        "  print('\\n1ª Diferença:',diferenca1)\n",
        "  print('2ª Diferença:',diferenca2)\n",
        "\n",
        "elif opcao == 'c' or opcao == 'C':\n",
        "  mult = num1 * num2\n",
        "  print('\\nProduto:',mult)\n",
        "\n",
        "elif opcao == 'd' or opcao == 'D':\n",
        "  quociente1 = num1 / num2 if num2 != 0 else quociente1 == 0\n",
        "  quociente2 = num2 / num1 if num1 != 0 else quociente2 == 0\n",
        "  print('\\n1º Quociente:',quociente1)\n",
        "  print('2º Quociente:',quociente2)\n",
        "\n",
        "else:\n",
        "  print('\\nOpção não Encontrada. Digite A ou B ou C ou D')"
      ],
      "metadata": {
        "colab": {
          "base_uri": "https://localhost:8080/"
        },
        "id": "5y1t07fEiOOC",
        "outputId": "92acc190-afc0-4319-b022-08a14130d7f5"
      },
      "id": "5y1t07fEiOOC",
      "execution_count": null,
      "outputs": [
        {
          "output_type": "stream",
          "name": "stdout",
          "text": [
            "Digite o primeiro número: 9\n",
            "Digite o segundo número: 9\n",
            "\n",
            "Escolha uma das operações:\n",
            "\n",
            "A - Somar\n",
            "B - Subtrair\n",
            "C - Multiplicar\n",
            "D - Dividir\n",
            "d\n",
            "\n",
            "1º Quociente: 1.0\n",
            "2º Quociente: 1.0\n"
          ]
        }
      ]
    },
    {
      "cell_type": "code",
      "source": [
        "def operacao(op,a,b):\n",
        "  return{\n",
        "      '1': a + b,\n",
        "      '2': a - b,\n",
        "      '3': a * b,\n",
        "      '4': a / b if b != 0 else 'Divisão por zero não aceita'\n",
        "  }.get(op, 'Operação inválida')\n",
        "\n",
        "op = input('Escolha: 1-Soma, 2-Sub, 3-Mult, 4-Div: ')\n",
        "a, b = map(int, input('Digite dois números: ').split())\n",
        "print('Resultado: ', operacao(op, a, b))"
      ],
      "metadata": {
        "colab": {
          "base_uri": "https://localhost:8080/"
        },
        "id": "mvDYgCK5m3V7",
        "outputId": "15b7a95c-9980-45c2-aa57-48639b3c8fbd"
      },
      "id": "mvDYgCK5m3V7",
      "execution_count": null,
      "outputs": [
        {
          "output_type": "stream",
          "name": "stdout",
          "text": [
            "Escolha: 1-Soma, 2-Sub, 3-Mult, 4-Div: 1\n",
            "Digite dois números: 8 9\n",
            "Resultado:  17\n"
          ]
        }
      ]
    },
    {
      "cell_type": "code",
      "source": [
        "def operacao(op,a,b):\n",
        "  return{\n",
        "      '1': a + b,\n",
        "      '2': a - b,\n",
        "      '3': a * b,\n",
        "      '4': a / b\n",
        "         if b != 0\n",
        "         else 'Divisão por zero não aceita'\n",
        "  }.get(op, 'Operação inválida')\n",
        "\n",
        "op = input('Escolha: 1-Soma, 2-Sub, 3-Mult, 4-Div: ')\n",
        "a = int(input('Digite primeiro número: '))\n",
        "b = int(input('Digite segundo número: '))\n",
        "print('Resultado: ', operacao(op, a, b))"
      ],
      "metadata": {
        "colab": {
          "base_uri": "https://localhost:8080/"
        },
        "id": "qwLaexS3rY1f",
        "outputId": "96e7d039-d04f-44fb-ad95-ff5853024918"
      },
      "id": "qwLaexS3rY1f",
      "execution_count": null,
      "outputs": [
        {
          "output_type": "stream",
          "name": "stdout",
          "text": [
            "Escolha: 1-Soma, 2-Sub, 3-Mult, 4-Div: 2\n",
            "Digite primeiro número: -8\n",
            "Digite segundo número: -5\n",
            "Resultado:  -3\n"
          ]
        }
      ]
    },
    {
      "cell_type": "markdown",
      "id": "185590d4",
      "metadata": {
        "id": "185590d4"
      },
      "source": [
        "## Exercício 12: Crie um menu para converter temperaturas entre Celsius, Fahrenheit e Kelvin."
      ]
    },
    {
      "cell_type": "code",
      "source": [
        "unidade = input('Escolha uma unidade de temperatura:\\n\\nC - Celsius\\nF- Farenheit\\nK - Kelvin\\n')\n",
        "temperatura = float(input('\\n\\nDigite a temperatura: '))\n",
        "\n",
        "if unidade == 'c' or unidade == 'C':\n",
        "   celsius = temperatura\n",
        "   fahrenheit = (celsius * 9/5) + 32\n",
        "   kelvin = celsius + 273.15\n",
        "\n",
        "elif unidade == 'f' or unidade == 'F':\n",
        "   celsius = (fahrenheit - 32) * (5/9)\n",
        "   fahrenheit = temperatura\n",
        "   kelvin = (fahrenheit - 32) * (5/9) + 273.15\n",
        "\n",
        "elif unidade == 'k' or unidade == 'K':\n",
        "   celsius = kelvin - 273.15\n",
        "   fahrenheit = (kelvin - 273.15) * (9/5) + 32\n",
        "   kelvin = temperatura\n",
        "\n",
        "else:\n",
        "  print('Opção inválida. Escolha C ou F ou K')\n",
        "\n",
        "print('\\n')\n",
        "print('Temperatura em Celsius: ', round(celsius,1))\n",
        "print('Temperatura em Fahrenheit: ', round(fahrenheit,1))\n",
        "print('Temperatura em Kelvin: ', round(kelvin,1))\n"
      ],
      "metadata": {
        "colab": {
          "base_uri": "https://localhost:8080/"
        },
        "id": "HqymJ8KUs8-n",
        "outputId": "f87c4c7e-8207-44e7-e9a8-ff538a1ead26"
      },
      "id": "HqymJ8KUs8-n",
      "execution_count": null,
      "outputs": [
        {
          "output_type": "stream",
          "name": "stdout",
          "text": [
            "Escolha uma unidade de temperatura:\n",
            "\n",
            "C - Celsius\n",
            "F- Farenheit\n",
            "K - Kelvin\n",
            "k\n",
            "\n",
            "\n",
            "Digite a temperatura: 200\n",
            "\n",
            "\n",
            "Temperatura em Celsius:  19.0\n",
            "Temperatura em Fahrenheit:  66.2\n",
            "Temperatura em Kelvin:  200.0\n"
          ]
        }
      ]
    },
    {
      "cell_type": "code",
      "source": [
        "def converter(op, t):\n",
        "  return {\n",
        "      '1': (t*9/5) + 32,\n",
        "      '2': t + 273.15\n",
        "  }.get(op, 'Opção Inválida')\n",
        "\n",
        "op = input('Digite a conversão desejada: 1-Celsius para Fahrenhet, 2-Celsius para Kelvin')\n",
        "t = float(input('Digite a temperatura em Celsius: '))\n",
        "print('Temperatura convertida: ', converter(op, t))"
      ],
      "metadata": {
        "colab": {
          "base_uri": "https://localhost:8080/"
        },
        "id": "cBVoIXTEx1mk",
        "outputId": "60a7499b-5cbd-4517-a085-b19f54ec37cd"
      },
      "id": "cBVoIXTEx1mk",
      "execution_count": null,
      "outputs": [
        {
          "output_type": "stream",
          "name": "stdout",
          "text": [
            "Digite a conversão desejada: 1-Celsius para Fahrenhet, 2-Celsius para Kelvin2\n",
            "Digite a temperatura em Celsius: 41\n",
            "Temperatura convertida:  314.15\n"
          ]
        }
      ]
    },
    {
      "cell_type": "markdown",
      "id": "f8254fda",
      "metadata": {
        "id": "f8254fda"
      },
      "source": [
        "## Exercício 13: Crie um programa que traduza números de 1 a 5 para palavras (1 = um, 2 = dois...)."
      ]
    },
    {
      "cell_type": "code",
      "source": [
        "numero = int(input('Digite um número: '))\n",
        "if numero == 1: print('1 = um')\n",
        "elif numero == 2: print('2 = dois')\n",
        "elif numero == 3: print('3 = três')\n",
        "elif numero == 4: print('4 = quatro')\n",
        "elif numero == 5: print('5 = cinco')\n",
        "else: print('Opção inválida. Digite 1 ou 2 ou 3 ou 4 ou 5.')"
      ],
      "metadata": {
        "colab": {
          "base_uri": "https://localhost:8080/"
        },
        "id": "B29D5rGPz4F5",
        "outputId": "dbc3c13e-4ba0-4524-b29f-800a452fcd3c"
      },
      "id": "B29D5rGPz4F5",
      "execution_count": null,
      "outputs": [
        {
          "output_type": "stream",
          "name": "stdout",
          "text": [
            "Digite um número: 7\n",
            "Opção inválida. Digite 1 ou 2 ou 3 ou 4 ou 5\n"
          ]
        }
      ]
    },
    {
      "cell_type": "code",
      "source": [
        "op = input('Digite um número de 1 a 5: ')\n",
        "print({\n",
        "    '1':'um',\n",
        "    '2':'dois',\n",
        "    '3':'três',\n",
        "    '4':'quatro',\n",
        "    '5':'cinco'\n",
        "}.get(op, 'Opção inválida'))"
      ],
      "metadata": {
        "colab": {
          "base_uri": "https://localhost:8080/"
        },
        "id": "BPm2fZAB-M13",
        "outputId": "ddd674ec-e594-4fe1-81d8-8c455b7133c4"
      },
      "id": "BPm2fZAB-M13",
      "execution_count": null,
      "outputs": [
        {
          "output_type": "stream",
          "name": "stdout",
          "text": [
            "Digite um número de 1 a 5: 9\n",
            "Opção inválida\n"
          ]
        }
      ]
    },
    {
      "cell_type": "markdown",
      "id": "1479a2ad",
      "metadata": {
        "id": "1479a2ad"
      },
      "source": [
        "## Exercício 14: Crie um menu onde o usuário pode escolher entre exibir a data, hora ou sair."
      ]
    },
    {
      "cell_type": "code",
      "source": [
        "from datetime import datetime, timezone\n",
        "\n",
        "datahora = datetime.now()\n",
        "diferenca = datahora.now().timedelta(hours=-3)\n",
        "fusohorario = timezone(diferenca)\n",
        "datahoraatual = datahora.astimezone(fusohorario)\n",
        "data = datahoraatual.now().today()\n",
        "hora = datahoraatual.now().time()\n",
        "\n",
        "opcao = input('Escolha:\\n\\n1 - Data Atual\\n2 - Hora Atual\\n3 - Sair\\n')\n",
        "\n",
        "if opcao == 1:\n",
        "  print('\\nData:', data)\n",
        "elif opcao == 2:\n",
        "  print('\\nHora:', hora)\n",
        "elif opcao == 3:\n",
        "  exit()\n",
        "else: print('Opção Inválida. Escolha 1 ou 2 ou 3')\n"
      ],
      "metadata": {
        "colab": {
          "base_uri": "https://localhost:8080/",
          "height": 216
        },
        "id": "EBBmhLW21GgT",
        "outputId": "267bd4be-4f39-4911-8c4f-851125a1f18a"
      },
      "id": "EBBmhLW21GgT",
      "execution_count": null,
      "outputs": [
        {
          "output_type": "error",
          "ename": "AttributeError",
          "evalue": "'datetime.datetime' object has no attribute 'timedelta'",
          "traceback": [
            "\u001b[0;31m---------------------------------------------------------------------------\u001b[0m",
            "\u001b[0;31mAttributeError\u001b[0m                            Traceback (most recent call last)",
            "\u001b[0;32m<ipython-input-107-e722b89e278c>\u001b[0m in \u001b[0;36m<cell line: 0>\u001b[0;34m()\u001b[0m\n\u001b[1;32m      2\u001b[0m \u001b[0;34m\u001b[0m\u001b[0m\n\u001b[1;32m      3\u001b[0m \u001b[0mdatahora\u001b[0m \u001b[0;34m=\u001b[0m \u001b[0mdatetime\u001b[0m\u001b[0;34m.\u001b[0m\u001b[0mnow\u001b[0m\u001b[0;34m(\u001b[0m\u001b[0;34m)\u001b[0m\u001b[0;34m\u001b[0m\u001b[0;34m\u001b[0m\u001b[0m\n\u001b[0;32m----> 4\u001b[0;31m \u001b[0mdiferenca\u001b[0m \u001b[0;34m=\u001b[0m \u001b[0mdatahora\u001b[0m\u001b[0;34m.\u001b[0m\u001b[0mnow\u001b[0m\u001b[0;34m(\u001b[0m\u001b[0;34m)\u001b[0m\u001b[0;34m.\u001b[0m\u001b[0mtimedelta\u001b[0m\u001b[0;34m(\u001b[0m\u001b[0mhours\u001b[0m\u001b[0;34m=\u001b[0m\u001b[0;34m-\u001b[0m\u001b[0;36m3\u001b[0m\u001b[0;34m)\u001b[0m\u001b[0;34m\u001b[0m\u001b[0;34m\u001b[0m\u001b[0m\n\u001b[0m\u001b[1;32m      5\u001b[0m \u001b[0mfusohorario\u001b[0m \u001b[0;34m=\u001b[0m \u001b[0mtimezone\u001b[0m\u001b[0;34m(\u001b[0m\u001b[0mdiferenca\u001b[0m\u001b[0;34m)\u001b[0m\u001b[0;34m\u001b[0m\u001b[0;34m\u001b[0m\u001b[0m\n\u001b[1;32m      6\u001b[0m \u001b[0mdatahoraatual\u001b[0m \u001b[0;34m=\u001b[0m \u001b[0mdatahora\u001b[0m\u001b[0;34m.\u001b[0m\u001b[0mastimezone\u001b[0m\u001b[0;34m(\u001b[0m\u001b[0mfusohorario\u001b[0m\u001b[0;34m)\u001b[0m\u001b[0;34m\u001b[0m\u001b[0;34m\u001b[0m\u001b[0m\n",
            "\u001b[0;31mAttributeError\u001b[0m: 'datetime.datetime' object has no attribute 'timedelta'"
          ]
        }
      ]
    },
    {
      "cell_type": "code",
      "source": [
        "from datetime import datetime, time, date\n",
        "\n",
        "op = input('1-Data\\n2-Hora\\n3-Sair\\nEscolha uma das opções: ')\n",
        "print({\n",
        "    '1': datetime.now().date(),\n",
        "    '2': datetime.now().time(),\n",
        "    '3': 'Saindo'\n",
        "}.get(op, 'Opção inválida'))"
      ],
      "metadata": {
        "colab": {
          "base_uri": "https://localhost:8080/"
        },
        "id": "lJR6ZnNyBVkw",
        "outputId": "2cf20e79-d15f-4abe-dcad-d13485c547a0"
      },
      "id": "lJR6ZnNyBVkw",
      "execution_count": null,
      "outputs": [
        {
          "output_type": "stream",
          "name": "stdout",
          "text": [
            "1-Data\n",
            "2-Hora\n",
            "3-Sair\n",
            "Escolha uma das opções: 3\n",
            "Saindo\n"
          ]
        }
      ]
    },
    {
      "cell_type": "code",
      "source": [
        "from datetime import datetime, time, date\n",
        "\n",
        "op = input('1-Data\\n2-Hora\\n3-Sair\\nEscolha uma das opções: ')\n",
        "print({\n",
        "    '1': datetime.now().date(),\n",
        "    '2': datetime.now().time(),\n",
        "    '3': exit()\n",
        "}.get(op, 'Opção inválida'))"
      ],
      "metadata": {
        "colab": {
          "base_uri": "https://localhost:8080/"
        },
        "id": "xQ5oijhmDRyY",
        "outputId": "0365904a-3665-4dcb-9fc1-4ca95f5264c8"
      },
      "id": "xQ5oijhmDRyY",
      "execution_count": null,
      "outputs": [
        {
          "output_type": "stream",
          "name": "stdout",
          "text": [
            "1-Data\n",
            "2-Hora\n",
            "3-Sair\n",
            "Escolha uma das opções: 3\n",
            "None\n"
          ]
        }
      ]
    },
    {
      "cell_type": "markdown",
      "id": "49ca94fd",
      "metadata": {
        "id": "49ca94fd"
      },
      "source": [
        "## Exercício 15: Implemente um programa que identifica o dia da semana baseado em um número (1 = Segunda, 7 = Domingo)."
      ]
    },
    {
      "cell_type": "code",
      "source": [
        "numero = int(input('Digite um número: '))\n",
        "if numero == 1: print('1 = segunda')\n",
        "elif numero == 2: print('2 = terça')\n",
        "elif numero == 3: print('3 = quarta')\n",
        "elif numero == 4: print('4 = quinta')\n",
        "elif numero == 5: print('5 = sexta')\n",
        "elif numero == 6: print('5 = sábado')\n",
        "elif numero == 7: print('5 = domingo')\n",
        "else: print('Opção inválida. Digite 1 ou 2 ou 3 ou 4 ou 5 ou 6 ou 7.')"
      ],
      "metadata": {
        "colab": {
          "base_uri": "https://localhost:8080/"
        },
        "id": "52uQu5Rn8Dck",
        "outputId": "e4d4465d-571f-4ad3-f4f1-9532c898a4f3"
      },
      "id": "52uQu5Rn8Dck",
      "execution_count": null,
      "outputs": [
        {
          "output_type": "stream",
          "name": "stdout",
          "text": [
            "Digite um número: 9\n",
            "Opção inválida. Digite 1 ou 2 ou 3 ou 4 ou 5 ou 6 ou 7.\n"
          ]
        }
      ]
    },
    {
      "cell_type": "code",
      "source": [
        "op = input('Digite um número de 1 a 7: ')\n",
        "print({\n",
        "    '1':'segunda',\n",
        "    '2':'terça',\n",
        "    '3':'quarta',\n",
        "    '4':'quinta',\n",
        "    '5':'sexta',\n",
        "    '6':'sábado',\n",
        "    '7':'domingo'\n",
        "}.get(op, 'Opção inválida'))"
      ],
      "metadata": {
        "colab": {
          "base_uri": "https://localhost:8080/"
        },
        "id": "WZWtvg1l-3dL",
        "outputId": "77dc5855-79dc-41d0-8e7d-85ef26489864"
      },
      "id": "WZWtvg1l-3dL",
      "execution_count": null,
      "outputs": [
        {
          "output_type": "stream",
          "name": "stdout",
          "text": [
            "Digite um número de 1 a 7: 78\n",
            "Opção inválida\n"
          ]
        }
      ]
    },
    {
      "cell_type": "markdown",
      "id": "7f1b4a1e",
      "metadata": {
        "id": "7f1b4a1e"
      },
      "source": [
        "## Exercício 16: Verifique se um número é par ou ímpar usando if ternário."
      ]
    },
    {
      "cell_type": "code",
      "source": [
        "n = int(input('Escreva um número: '))\n",
        "resto = (n % 2)\n",
        "\n",
        "resultado = \"É par\" if resto == 0 else \"É ímpar\"\n",
        "print(resultado)"
      ],
      "metadata": {
        "colab": {
          "base_uri": "https://localhost:8080/"
        },
        "id": "mIBLGQ1J_z9z",
        "outputId": "a05672b0-0087-4144-be18-fcb66428b3ff"
      },
      "id": "mIBLGQ1J_z9z",
      "execution_count": null,
      "outputs": [
        {
          "output_type": "stream",
          "name": "stdout",
          "text": [
            "Escreva um número: 8\n",
            "É par\n"
          ]
        }
      ]
    },
    {
      "cell_type": "markdown",
      "id": "4b647778",
      "metadata": {
        "id": "4b647778"
      },
      "source": [
        "## Exercício 17: Verifique se um número é positivo ou negativo usando if ternário."
      ]
    },
    {
      "cell_type": "code",
      "source": [
        "n = float(input('Escreva um número: '))\n",
        "\n",
        "resultado = \"É posito\" if n > 0 else \"É negativo\" if n < 0 else \"Neutro\"\n",
        "print(resultado)"
      ],
      "metadata": {
        "colab": {
          "base_uri": "https://localhost:8080/"
        },
        "id": "B8inJvCtAex-",
        "outputId": "456220be-9bbf-42bf-eaaf-4150f4e2eb26"
      },
      "id": "B8inJvCtAex-",
      "execution_count": null,
      "outputs": [
        {
          "output_type": "stream",
          "name": "stdout",
          "text": [
            "Escreva um número: -7\n",
            "É negativo\n"
          ]
        }
      ]
    },
    {
      "cell_type": "markdown",
      "id": "a6ed0e6f",
      "metadata": {
        "id": "a6ed0e6f"
      },
      "source": [
        "## Exercício 18: Retorne 'Adulto' se a idade for maior ou igual a 18, senão 'Menor de idade'."
      ]
    },
    {
      "cell_type": "code",
      "source": [
        "idade = int(input('Informe a idade: '))\n",
        "if idade >= 18: print('Adulto')\n",
        "else: print('Menor Idade')"
      ],
      "metadata": {
        "colab": {
          "base_uri": "https://localhost:8080/"
        },
        "id": "E7rO8ryy80p_",
        "outputId": "231e55b4-8e6a-427b-8ad2-9672882df067"
      },
      "id": "E7rO8ryy80p_",
      "execution_count": null,
      "outputs": [
        {
          "output_type": "stream",
          "name": "stdout",
          "text": [
            "Informe a idade: 18\n",
            "Adulto\n"
          ]
        }
      ]
    },
    {
      "cell_type": "code",
      "source": [
        "idade = int(input('Informe a idade: '))\n",
        "resultado = 'Adulto'if idade >= 18 else 'Menor Idade'\n",
        "print(resultado)"
      ],
      "metadata": {
        "colab": {
          "base_uri": "https://localhost:8080/"
        },
        "id": "q02_96urFL4t",
        "outputId": "03fdd044-c317-4ca8-85be-ebbd424b3fe1"
      },
      "id": "q02_96urFL4t",
      "execution_count": null,
      "outputs": [
        {
          "output_type": "stream",
          "name": "stdout",
          "text": [
            "Informe a idade: 78\n",
            "Adulto\n"
          ]
        }
      ]
    },
    {
      "cell_type": "markdown",
      "id": "354ae09c",
      "metadata": {
        "id": "354ae09c"
      },
      "source": [
        "## Exercício 19: Verifique se um número é maior que 100 e retorne 'Grande' ou 'Pequeno'."
      ]
    },
    {
      "cell_type": "code",
      "source": [
        "numero = float (input('Digite um número:'))\n",
        "if numero > 100: print('Grande')\n",
        "else: print('Pequeno')"
      ],
      "metadata": {
        "colab": {
          "base_uri": "https://localhost:8080/"
        },
        "id": "B656dxdM9F7b",
        "outputId": "6f5eaaaf-14bf-41e7-96b9-9ab3c349b400"
      },
      "id": "B656dxdM9F7b",
      "execution_count": null,
      "outputs": [
        {
          "output_type": "stream",
          "name": "stdout",
          "text": [
            "Digite um número:200\n",
            "Grande\n"
          ]
        }
      ]
    },
    {
      "cell_type": "code",
      "source": [
        "numero = float (input('Digite um número:'))\n",
        "resultado = 'Grande' if numero > 100 else 'Pequeno'\n",
        "print(resultado)\n"
      ],
      "metadata": {
        "colab": {
          "base_uri": "https://localhost:8080/"
        },
        "id": "5ENx133RFuAo",
        "outputId": "7d7bdc81-3600-4722-9e00-d45c367b971a"
      },
      "id": "5ENx133RFuAo",
      "execution_count": null,
      "outputs": [
        {
          "output_type": "stream",
          "name": "stdout",
          "text": [
            "Digite um número:12\n",
            "Pequeno\n"
          ]
        }
      ]
    },
    {
      "cell_type": "markdown",
      "id": "dc89b94f",
      "metadata": {
        "id": "dc89b94f"
      },
      "source": [
        "## Exercício 20: Retorne 'Aprovado' se a nota for maior ou igual a 7, senão 'Reprovado'."
      ]
    },
    {
      "cell_type": "code",
      "source": [
        "nota = float (input('Digite a nota:'))\n",
        "if 7 <= nota <= 10: print('Aprovado')\n",
        "elif 0 <= nota < 7: print('Reprovado')\n",
        "else: print('Valor Inválido')"
      ],
      "metadata": {
        "colab": {
          "base_uri": "https://localhost:8080/"
        },
        "id": "sVr4-xM99imt",
        "outputId": "83a8337d-6f31-4d43-fbe6-5280beb98e0e"
      },
      "id": "sVr4-xM99imt",
      "execution_count": null,
      "outputs": [
        {
          "output_type": "stream",
          "name": "stdout",
          "text": [
            "Digite a nota:0\n",
            "Reprovado\n"
          ]
        }
      ]
    },
    {
      "cell_type": "code",
      "source": [
        "nota = float(input('Digite a nota: '))\n",
        "resultado = 'Aprovado' if 7 <= nota <= 10 else 'Reprovado' if 0 <= nota < 7 else 'Valor Inválido'\n",
        "print(resultado)"
      ],
      "metadata": {
        "colab": {
          "base_uri": "https://localhost:8080/"
        },
        "id": "1sUQXTfNGLfP",
        "outputId": "084239e9-d2a6-4b23-d863-25108396492d"
      },
      "id": "1sUQXTfNGLfP",
      "execution_count": null,
      "outputs": [
        {
          "output_type": "stream",
          "name": "stdout",
          "text": [
            "Digite a nota: 8\n",
            "Aprovado\n"
          ]
        }
      ]
    },
    {
      "cell_type": "markdown",
      "id": "58cdaa42",
      "metadata": {
        "id": "58cdaa42"
      },
      "source": [
        "## Exercício 21: Imprima os números de 1 a 10 usando um laço for."
      ]
    },
    {
      "cell_type": "code",
      "source": [
        "vetor = []\n",
        "for X in range(1,11):\n",
        "    vetor = (vetor + [X])\n",
        "print(vetor)\n"
      ],
      "metadata": {
        "colab": {
          "base_uri": "https://localhost:8080/"
        },
        "id": "sool9e-AHChn",
        "outputId": "90a19f81-e992-4fa8-cb90-7e533b501a13"
      },
      "id": "sool9e-AHChn",
      "execution_count": null,
      "outputs": [
        {
          "output_type": "stream",
          "name": "stdout",
          "text": [
            "[1, 2, 3, 4, 5, 6, 7, 8, 9, 10]\n"
          ]
        }
      ]
    },
    {
      "cell_type": "code",
      "source": [
        "for i in range(1,11):\n",
        "    print(i)"
      ],
      "metadata": {
        "colab": {
          "base_uri": "https://localhost:8080/"
        },
        "id": "0TU1PbgBJ6fH",
        "outputId": "7e900973-1c6d-45f4-b5ea-6c5cb35585b8"
      },
      "id": "0TU1PbgBJ6fH",
      "execution_count": null,
      "outputs": [
        {
          "output_type": "stream",
          "name": "stdout",
          "text": [
            "1\n",
            "2\n",
            "3\n",
            "4\n",
            "5\n",
            "6\n",
            "7\n",
            "8\n",
            "9\n",
            "10\n"
          ]
        }
      ]
    },
    {
      "cell_type": "markdown",
      "id": "ee76ef90",
      "metadata": {
        "id": "ee76ef90"
      },
      "source": [
        "## Exercício 22: Imprima os números pares de 1 a 20."
      ]
    },
    {
      "cell_type": "code",
      "source": [
        "vetor = []\n",
        "for X in range(2,22,2):\n",
        "    vetor = (vetor + [X])\n",
        "print(vetor)"
      ],
      "metadata": {
        "colab": {
          "base_uri": "https://localhost:8080/"
        },
        "id": "pJ4CjcYmHYUj",
        "outputId": "24e6ecd9-e754-4454-9d35-bd1683a7293f"
      },
      "id": "pJ4CjcYmHYUj",
      "execution_count": null,
      "outputs": [
        {
          "output_type": "stream",
          "name": "stdout",
          "text": [
            "[2, 4, 6, 8, 10, 12, 14, 16, 18, 20]\n"
          ]
        }
      ]
    },
    {
      "cell_type": "code",
      "source": [
        "for i in range(0, 21, 2):\n",
        "  if i != 0:\n",
        "    print(i)"
      ],
      "metadata": {
        "colab": {
          "base_uri": "https://localhost:8080/"
        },
        "id": "0RGI9ZAPMthH",
        "outputId": "fe9b50d7-f209-4ead-dd3a-05ddd4e2feb3"
      },
      "id": "0RGI9ZAPMthH",
      "execution_count": null,
      "outputs": [
        {
          "output_type": "stream",
          "name": "stdout",
          "text": [
            "2\n",
            "4\n",
            "6\n",
            "8\n",
            "10\n",
            "12\n",
            "14\n",
            "16\n",
            "18\n",
            "20\n"
          ]
        }
      ]
    },
    {
      "cell_type": "code",
      "source": [
        "for i in range(2, 21,2):\n",
        "    print(i)"
      ],
      "metadata": {
        "colab": {
          "base_uri": "https://localhost:8080/"
        },
        "id": "zQ5YvHxlNBZs",
        "outputId": "3cbe7a65-22d4-42f1-bf23-898816c33254"
      },
      "id": "zQ5YvHxlNBZs",
      "execution_count": null,
      "outputs": [
        {
          "output_type": "stream",
          "name": "stdout",
          "text": [
            "2\n",
            "4\n",
            "6\n",
            "8\n",
            "10\n",
            "12\n",
            "14\n",
            "16\n",
            "18\n",
            "20\n"
          ]
        }
      ]
    },
    {
      "cell_type": "markdown",
      "id": "b482d8a2",
      "metadata": {
        "id": "b482d8a2"
      },
      "source": [
        "## Exercício 23: Calcule a soma dos números de 1 a 100."
      ]
    },
    {
      "cell_type": "code",
      "source": [
        "vetor = []\n",
        "for X in range(1,101):\n",
        "    vetor = (vetor + [X])\n",
        "    soma = sum(vetor)\n",
        "print(soma)"
      ],
      "metadata": {
        "colab": {
          "base_uri": "https://localhost:8080/"
        },
        "id": "WCuOnzn3IC4a",
        "outputId": "5aa7aa1d-7ea0-430a-9bf1-0a81e8bbad6e"
      },
      "id": "WCuOnzn3IC4a",
      "execution_count": null,
      "outputs": [
        {
          "output_type": "stream",
          "name": "stdout",
          "text": [
            "5050\n"
          ]
        }
      ]
    },
    {
      "cell_type": "markdown",
      "id": "07ad69f1",
      "metadata": {
        "id": "07ad69f1"
      },
      "source": [
        "## Exercício 24: Imprima a tabuada do 5."
      ]
    },
    {
      "cell_type": "code",
      "source": [
        "vetor = []\n",
        "X = int(input('Digite um número máximo para ser multiplicado na tabuada de 5 : '))\n",
        "for X in range(0,X + 1):\n",
        "    mult = 5 * X\n",
        "    print('5 x', X, '=', mult)\n"
      ],
      "metadata": {
        "colab": {
          "base_uri": "https://localhost:8080/"
        },
        "id": "wSKTuTyuInZR",
        "outputId": "aa1f5c79-9fe2-408d-b6e7-53012937ed7e"
      },
      "id": "wSKTuTyuInZR",
      "execution_count": null,
      "outputs": [
        {
          "output_type": "stream",
          "name": "stdout",
          "text": [
            "Digite um número máximo para ser multiplicado na tabuada de 5 : 12\n",
            "5 x 0 = 0\n",
            "5 x 1 = 5\n",
            "5 x 2 = 10\n",
            "5 x 3 = 15\n",
            "5 x 4 = 20\n",
            "5 x 5 = 25\n",
            "5 x 6 = 30\n",
            "5 x 7 = 35\n",
            "5 x 8 = 40\n",
            "5 x 9 = 45\n",
            "5 x 10 = 50\n",
            "5 x 11 = 55\n",
            "5 x 12 = 60\n"
          ]
        }
      ]
    },
    {
      "cell_type": "markdown",
      "id": "f4513a53",
      "metadata": {
        "id": "f4513a53"
      },
      "source": [
        "## Exercício 25: Imprima os 10 primeiros números da sequência de Fibonacci."
      ]
    },
    {
      "cell_type": "code",
      "source": [
        "def fibonacci(n):\n",
        "    if n <= 1:\n",
        "        return n\n",
        "    return fibonacci(n - 1) + fibonacci(n - 2)\n",
        "\n",
        "# Example usage\n",
        "for i in range(10):\n",
        "    print(fibonacci(i), end=\" \")"
      ],
      "metadata": {
        "colab": {
          "base_uri": "https://localhost:8080/"
        },
        "id": "JnjKTnaLr3_Y",
        "outputId": "6e51ee10-717c-4e81-924c-8df8b2334ae7"
      },
      "id": "JnjKTnaLr3_Y",
      "execution_count": null,
      "outputs": [
        {
          "output_type": "stream",
          "name": "stdout",
          "text": [
            "0 1 1 2 3 5 8 13 21 34 "
          ]
        }
      ]
    },
    {
      "cell_type": "markdown",
      "id": "859ddee6",
      "metadata": {
        "id": "859ddee6"
      },
      "source": [
        "## Exercício 26: Percorra uma string e imprima cada caractere."
      ]
    },
    {
      "cell_type": "code",
      "source": [
        "fruta = \"banana\"\n",
        "for letra in fruta:\n",
        "    print(letra)"
      ],
      "metadata": {
        "colab": {
          "base_uri": "https://localhost:8080/"
        },
        "id": "qB0k6E5ls-dc",
        "outputId": "a4cc5ba7-f238-40b7-8427-fc6dab7140c1"
      },
      "id": "qB0k6E5ls-dc",
      "execution_count": null,
      "outputs": [
        {
          "output_type": "stream",
          "name": "stdout",
          "text": [
            "b\n",
            "a\n",
            "n\n",
            "a\n",
            "n\n",
            "a\n"
          ]
        }
      ]
    },
    {
      "cell_type": "code",
      "source": [
        "fruta = \"banana\"\n",
        "indice = 0\n",
        "while indice < len(fruta):\n",
        "    letra = fruta[indice]\n",
        "    print(letra)\n",
        "    indice += 1"
      ],
      "metadata": {
        "colab": {
          "base_uri": "https://localhost:8080/"
        },
        "id": "LMySNpwGtB28",
        "outputId": "dd7205a0-db90-40ec-c0b9-ea74b20b1159"
      },
      "id": "LMySNpwGtB28",
      "execution_count": null,
      "outputs": [
        {
          "output_type": "stream",
          "name": "stdout",
          "text": [
            "b\n",
            "a\n",
            "n\n",
            "a\n",
            "n\n",
            "a\n"
          ]
        }
      ]
    },
    {
      "cell_type": "markdown",
      "id": "f2e48a7b",
      "metadata": {
        "id": "f2e48a7b"
      },
      "source": [
        "## Exercício 27: Crie um programa que peça um número e imprima sua contagem regressiva até 0."
      ]
    },
    {
      "cell_type": "code",
      "source": [
        "contador = int(input('Digite um número máximo para a contagem regressiva: '))\n",
        "while contador >= 1:\n",
        "    print(contador)\n",
        "    contador -= 1\n",
        "print(contador)"
      ],
      "metadata": {
        "colab": {
          "base_uri": "https://localhost:8080/"
        },
        "id": "00nrdyEvu6e3",
        "outputId": "adb7fe25-8195-4127-a682-a4817f1a08e2"
      },
      "id": "00nrdyEvu6e3",
      "execution_count": null,
      "outputs": [
        {
          "output_type": "stream",
          "name": "stdout",
          "text": [
            "Digite um número máximo para a contagem regressiva: 15\n",
            "15\n",
            "14\n",
            "13\n",
            "12\n",
            "11\n",
            "10\n",
            "9\n",
            "8\n",
            "7\n",
            "6\n",
            "5\n",
            "4\n",
            "3\n",
            "2\n",
            "1\n",
            "0\n"
          ]
        }
      ]
    },
    {
      "cell_type": "code",
      "source": [
        "contador = int(input('Digite um número máximo para a contagem regressiva: '))\n",
        "for i in range(contador, -1, -1):\n",
        "    print(i)\n"
      ],
      "metadata": {
        "colab": {
          "base_uri": "https://localhost:8080/"
        },
        "id": "tdulp_yrvmCm",
        "outputId": "581c7026-8b41-459d-878e-88941cffaacf"
      },
      "id": "tdulp_yrvmCm",
      "execution_count": null,
      "outputs": [
        {
          "output_type": "stream",
          "name": "stdout",
          "text": [
            "Digite um número máximo para a contagem regressiva: 29\n",
            "29\n",
            "28\n",
            "27\n",
            "26\n",
            "25\n",
            "24\n",
            "23\n",
            "22\n",
            "21\n",
            "20\n",
            "19\n",
            "18\n",
            "17\n",
            "16\n",
            "15\n",
            "14\n",
            "13\n",
            "12\n",
            "11\n",
            "10\n",
            "9\n",
            "8\n",
            "7\n",
            "6\n",
            "5\n",
            "4\n",
            "3\n",
            "2\n",
            "1\n",
            "0\n"
          ]
        }
      ]
    },
    {
      "cell_type": "markdown",
      "id": "1ffc8d99",
      "metadata": {
        "id": "1ffc8d99"
      },
      "source": [
        "## Exercício 28: Crie um programa que solicite 5 números ao usuário e exiba a soma deles."
      ]
    },
    {
      "cell_type": "code",
      "source": [
        "a = float(input('Digite o primeiro número: '))\n",
        "b = float(input('Digite o segundo número: '))\n",
        "c = float(input('Digite o terceiro número: '))\n",
        "d = float(input('Digite o quarto número: '))\n",
        "e = float(input('Digite o quinto número: '))\n",
        "\n",
        "soma = sum([a,b,c,d,e])\n",
        "print(\"\\nSOMA: \",soma)\n"
      ],
      "metadata": {
        "colab": {
          "base_uri": "https://localhost:8080/"
        },
        "id": "KzvysE1LxOLj",
        "outputId": "c730efb4-19b0-427e-f070-28e229165eef"
      },
      "id": "KzvysE1LxOLj",
      "execution_count": null,
      "outputs": [
        {
          "output_type": "stream",
          "name": "stdout",
          "text": [
            "Digite o primeiro número: 4\n",
            "Digite o segundo número: 6\n",
            "Digite o terceiro número: 7\n",
            "Digite o quarto número: 5\n",
            "Digite o quinto número: 2\n",
            "\n",
            "SOMA:  24.0\n"
          ]
        }
      ]
    },
    {
      "cell_type": "markdown",
      "id": "603fbc7a",
      "metadata": {
        "id": "603fbc7a"
      },
      "source": [
        "## Exercício 29: Imprima todas as vogais de uma string digitada pelo usuário."
      ]
    },
    {
      "cell_type": "code",
      "source": [
        "texto = input('Digite um texto: ')\n",
        "for letra in texto:\n",
        "  if letra in 'aeiouAEIOUáéíóúÁÉÍÓÚãõÃÕâêîôûÂÊÎÔÛÀà':\n",
        "    print(letra)"
      ],
      "metadata": {
        "colab": {
          "base_uri": "https://localhost:8080/"
        },
        "id": "38TFZlPHKVBM",
        "outputId": "7746a489-c5ed-4ae1-9a45-6535a4a51b16"
      },
      "id": "38TFZlPHKVBM",
      "execution_count": null,
      "outputs": [
        {
          "output_type": "stream",
          "name": "stdout",
          "text": [
            "Digite um texto: Cão e gato se amam\n",
            "ã\n",
            "o\n",
            "e\n",
            "a\n",
            "o\n",
            "e\n",
            "a\n",
            "a\n"
          ]
        }
      ]
    },
    {
      "cell_type": "markdown",
      "id": "60f8b06d",
      "metadata": {
        "id": "60f8b06d"
      },
      "source": [
        "## Exercício 30: Crie um programa que peça 5 números e exiba apenas os números pares."
      ]
    },
    {
      "cell_type": "code",
      "source": [
        "numeros = [5]\n",
        "for i in range(5):\n",
        "    numeros.append(int(input('Digite um número: ')))\n",
        "\n",
        "print('\\n')\n",
        "for numero in numeros:\n",
        "  if numero % 2 == 0:\n",
        "    print(numero)"
      ],
      "metadata": {
        "colab": {
          "base_uri": "https://localhost:8080/"
        },
        "id": "3vRUZO9VLJFV",
        "outputId": "dd81b636-b22f-4d4c-ef07-946ee50436d2"
      },
      "id": "3vRUZO9VLJFV",
      "execution_count": null,
      "outputs": [
        {
          "output_type": "stream",
          "name": "stdout",
          "text": [
            "Digite um número: 4\n",
            "Digite um número: 8\n",
            "Digite um número: 9\n",
            "Digite um número: 5\n",
            "Digite um número: 44\n",
            "\n",
            "\n",
            "4\n",
            "8\n",
            "44\n"
          ]
        }
      ]
    },
    {
      "cell_type": "markdown",
      "id": "48c9a395",
      "metadata": {
        "id": "48c9a395"
      },
      "source": [
        "## Exercício 31: Percorra uma lista de frutas e imprima cada uma."
      ]
    },
    {
      "cell_type": "code",
      "source": [
        "frutas = [\"maçã\", \"banana\", \"laranja\", \"uva\", \"pêra\", \"tucumã\"]\n",
        "\n",
        "for fruta in frutas:\n",
        "    print(fruta)"
      ],
      "metadata": {
        "colab": {
          "base_uri": "https://localhost:8080/"
        },
        "id": "F_O1Rf4xNnYy",
        "outputId": "3b10b786-a8db-4701-e499-e09450206049"
      },
      "id": "F_O1Rf4xNnYy",
      "execution_count": null,
      "outputs": [
        {
          "output_type": "stream",
          "name": "stdout",
          "text": [
            "maçã\n",
            "banana\n",
            "laranja\n",
            "uva\n",
            "pêra\n",
            "tucumã\n"
          ]
        }
      ]
    },
    {
      "cell_type": "markdown",
      "id": "adb57877",
      "metadata": {
        "id": "adb57877"
      },
      "source": [
        "## Exercício 32: Some todos os números de uma lista."
      ]
    },
    {
      "cell_type": "code",
      "source": [
        "numeros = [1, 2, 3, 4, 5, 6, 7, 8, 9, 10]\n",
        "soma = sum(numeros)\n",
        "print(soma)"
      ],
      "metadata": {
        "colab": {
          "base_uri": "https://localhost:8080/"
        },
        "id": "vnY1qqgwN_rt",
        "outputId": "3b18878d-71b2-4d8d-d4fb-517bee508c5f"
      },
      "id": "vnY1qqgwN_rt",
      "execution_count": null,
      "outputs": [
        {
          "output_type": "stream",
          "name": "stdout",
          "text": [
            "55\n"
          ]
        }
      ]
    },
    {
      "cell_type": "markdown",
      "id": "03989ca7",
      "metadata": {
        "id": "03989ca7"
      },
      "source": [
        "## Exercício 33: Multiplique cada número de uma lista por 2 e imprima o resultado."
      ]
    },
    {
      "cell_type": "code",
      "source": [
        "numeros = [5]\n",
        "for i in range(5):\n",
        "    numeros.append(int(input('Digite um número: ')))\n",
        "\n",
        "print('\\n')\n",
        "for numero in numeros:\n",
        "  mult = numero * 2\n",
        "  print(str(numero) + \" X \" + str(2) + \" = \" + str(mult))"
      ],
      "metadata": {
        "colab": {
          "base_uri": "https://localhost:8080/"
        },
        "id": "FV-1KHHEOiFW",
        "outputId": "fa038753-74b7-4711-e545-192e2d6c45f7"
      },
      "id": "FV-1KHHEOiFW",
      "execution_count": null,
      "outputs": [
        {
          "output_type": "stream",
          "name": "stdout",
          "text": [
            "Digite um número: 5\n",
            "Digite um número: 9\n",
            "Digite um número: 8\n",
            "Digite um número: 6\n",
            "Digite um número: 4\n",
            "\n",
            "\n",
            "5 X 2 = 10\n",
            "5 X 2 = 10\n",
            "9 X 2 = 18\n",
            "8 X 2 = 16\n",
            "6 X 2 = 12\n",
            "4 X 2 = 8\n"
          ]
        }
      ]
    },
    {
      "cell_type": "markdown",
      "id": "2f959625",
      "metadata": {
        "id": "2f959625"
      },
      "source": [
        "## Exercício 34: Conte quantas palavras existem em uma lista de palavras."
      ]
    },
    {
      "cell_type": "code",
      "source": [
        "lista_de_palavras = ['ola', 'mundo', 'em programação', 'em python']\n",
        "numero_de_palavras = len(lista_de_palavras)\n",
        "print(\"Número de palavras:\", numero_de_palavras)"
      ],
      "metadata": {
        "colab": {
          "base_uri": "https://localhost:8080/"
        },
        "id": "PXFekzID02By",
        "outputId": "58cf63d0-82fd-41a0-93ab-ccff3647cf29"
      },
      "id": "PXFekzID02By",
      "execution_count": null,
      "outputs": [
        {
          "output_type": "stream",
          "name": "stdout",
          "text": [
            "Número de palavras: 4\n"
          ]
        }
      ]
    },
    {
      "cell_type": "markdown",
      "id": "32331e7c",
      "metadata": {
        "id": "32331e7c"
      },
      "source": [
        "## Exercício 35: Imprima cada letra de uma palavra separadamente."
      ]
    },
    {
      "cell_type": "code",
      "source": [
        "palavra = \"Palácio\"\n",
        "lista_letras = list(palavra)\n",
        "print(lista_letras)"
      ],
      "metadata": {
        "colab": {
          "base_uri": "https://localhost:8080/"
        },
        "id": "TYlOOTVo1j98",
        "outputId": "ef31f608-2fb3-4bbb-9d2c-237d6e96ee47"
      },
      "id": "TYlOOTVo1j98",
      "execution_count": null,
      "outputs": [
        {
          "output_type": "stream",
          "name": "stdout",
          "text": [
            "['P', 'a', 'l', 'á', 'c', 'i', 'o']\n"
          ]
        }
      ]
    },
    {
      "cell_type": "markdown",
      "id": "88c43389",
      "metadata": {
        "id": "88c43389"
      },
      "source": [
        "## Exercício 36: Crie uma lista com 5 números e imprima o maior."
      ]
    },
    {
      "cell_type": "code",
      "source": [
        "numeros = [5]\n",
        "for i in range(5):\n",
        "    numeros.append(int(input('Digite um número: ')))\n",
        "\n",
        "print('\\n')\n",
        "print('Maior número:',max(numeros))"
      ],
      "metadata": {
        "colab": {
          "base_uri": "https://localhost:8080/"
        },
        "id": "MR8fSxzc1vXV",
        "outputId": "10e6017a-23b8-4429-d404-382bae5daaa8"
      },
      "id": "MR8fSxzc1vXV",
      "execution_count": null,
      "outputs": [
        {
          "output_type": "stream",
          "name": "stdout",
          "text": [
            "Digite um número: 4\n",
            "Digite um número: 7\n",
            "Digite um número: 8\n",
            "Digite um número: 44\n",
            "Digite um número: 55\n",
            "\n",
            "\n",
            "Maior número: 55\n"
          ]
        }
      ]
    },
    {
      "cell_type": "markdown",
      "id": "cefe2b8d",
      "metadata": {
        "id": "cefe2b8d"
      },
      "source": [
        "## Exercício 37: Crie uma lista e inverta a ordem dos elementos."
      ]
    },
    {
      "cell_type": "code",
      "source": [
        "lista = []\n",
        "for i in range(5):\n",
        "    lista.append(str(input('Digite uma palavra: ')))\n",
        "lista.reverse()\n",
        "print('\\nLista Invertida:\\n')\n",
        "print(lista)"
      ],
      "metadata": {
        "colab": {
          "base_uri": "https://localhost:8080/"
        },
        "id": "R6jL_cwy2hal",
        "outputId": "d253dbbe-6452-463b-eec0-f965c7fe017b"
      },
      "id": "R6jL_cwy2hal",
      "execution_count": null,
      "outputs": [
        {
          "output_type": "stream",
          "name": "stdout",
          "text": [
            "Digite uma palavra: t\n",
            "Digite uma palavra: a\n",
            "Digite uma palavra: w\n",
            "Digite uma palavra: q\n",
            "Digite uma palavra: o\n",
            "\n",
            "Lista Invertida:\n",
            "\n",
            "['o', 'q', 'w', 'a', 't']\n"
          ]
        }
      ]
    },
    {
      "cell_type": "markdown",
      "id": "6f090c30",
      "metadata": {
        "id": "6f090c30"
      },
      "source": [
        "## Exercício 38: Crie uma lista com 5 nomes e remova o último nome."
      ]
    },
    {
      "cell_type": "code",
      "source": [
        "lista = ['azul', 'verde', 'ocre', 'cinza', 'violeta']\n",
        "lista.remove('violeta')\n",
        "print(lista)"
      ],
      "metadata": {
        "colab": {
          "base_uri": "https://localhost:8080/"
        },
        "id": "CmAO-f-33Zmi",
        "outputId": "dbe4bb18-c361-4602-ad27-9ecb19be3566"
      },
      "id": "CmAO-f-33Zmi",
      "execution_count": null,
      "outputs": [
        {
          "output_type": "stream",
          "name": "stdout",
          "text": [
            "['azul', 'verde', 'ocre', 'cinza']\n"
          ]
        }
      ]
    },
    {
      "cell_type": "markdown",
      "id": "494fdd4f",
      "metadata": {
        "id": "494fdd4f"
      },
      "source": [
        "## Exercício 39: Ordene uma lista de números."
      ]
    },
    {
      "cell_type": "code",
      "source": [
        "numeros = [10]\n",
        "for i in range(10):\n",
        "    numeros.append(float(input('Digite um número: ')))\n",
        "\n",
        "print('\\n')\n",
        "numeros.sort()\n",
        "print('Lista em Ordem Crescente: ',numeros)"
      ],
      "metadata": {
        "colab": {
          "base_uri": "https://localhost:8080/"
        },
        "id": "43zTtI9p-9jQ",
        "outputId": "bd13ef03-6585-4324-d3f9-0ba00918df1b"
      },
      "id": "43zTtI9p-9jQ",
      "execution_count": null,
      "outputs": [
        {
          "output_type": "stream",
          "name": "stdout",
          "text": [
            "Digite um número: 5\n",
            "Digite um número: 9\n",
            "Digite um número: 8\n",
            "Digite um número: 6\n",
            "Digite um número: 8\n",
            "Digite um número: 7\n",
            "Digite um número: 5\n",
            "Digite um número: 44\n",
            "Digite um número: 2\n",
            "Digite um número: 3\n",
            "\n",
            "\n",
            "Lista em Ordem Crescente:  [2.0, 3.0, 5.0, 5.0, 6.0, 7.0, 8.0, 8.0, 9.0, 10, 44.0]\n"
          ]
        }
      ]
    },
    {
      "cell_type": "markdown",
      "id": "becf6860",
      "metadata": {
        "id": "becf6860"
      },
      "source": [
        "## Exercício 40: Crie uma lista com 5 números e exiba apenas os pares."
      ]
    },
    {
      "cell_type": "code",
      "source": [
        "numeros = [5]\n",
        "for i in range(5):\n",
        "    numeros.append(int(input('Digite um número: ')))\n",
        "\n",
        "print('\\n')\n",
        "par = [i for i in numero if i % 2 == 0]\n",
        "print('Números Pares:',par)\n"
      ],
      "metadata": {
        "colab": {
          "base_uri": "https://localhost:8080/"
        },
        "id": "mq4xtC9N_9CT",
        "outputId": "d0b691d0-9f99-4215-eacd-b603f4c9f2b1"
      },
      "id": "mq4xtC9N_9CT",
      "execution_count": null,
      "outputs": [
        {
          "output_type": "stream",
          "name": "stdout",
          "text": [
            "Digite um número: 4\n",
            "Digite um número: 7\n",
            "Digite um número: 88\n",
            "Digite um número: 99\n",
            "Digite um número: 55\n",
            "\n",
            "\n",
            "Números Pares: [54, 66, 12]\n"
          ]
        }
      ]
    },
    {
      "cell_type": "markdown",
      "id": "1be545d4",
      "metadata": {
        "id": "1be545d4"
      },
      "source": [
        "## Exercício 41: Crie uma lista e adicione um novo elemento no final."
      ]
    },
    {
      "cell_type": "code",
      "source": [
        "   minha_lista = [0,1,2,3]\n",
        "   minha_lista += [4,5,6,7,8,9,10]\n",
        "   print(minha_lista)"
      ],
      "metadata": {
        "colab": {
          "base_uri": "https://localhost:8080/"
        },
        "id": "ojVfqqdyD_Wm",
        "outputId": "f56e2b43-fc31-48d9-cb8e-200ada5952bd"
      },
      "id": "ojVfqqdyD_Wm",
      "execution_count": null,
      "outputs": [
        {
          "output_type": "stream",
          "name": "stdout",
          "text": [
            "[0, 1, 2, 3, 4, 5, 6, 7, 8, 9, 10]\n"
          ]
        }
      ]
    },
    {
      "cell_type": "markdown",
      "id": "e5f49687",
      "metadata": {
        "id": "e5f49687"
      },
      "source": [
        "## Exercício 42: Verifique se um número existe dentro de uma lista."
      ]
    },
    {
      "cell_type": "code",
      "source": [
        "lista = [1, 2, 3, 4, 5]\n",
        "\n",
        "verificar = float(input('Digite um número: '))\n",
        "\n",
        "if verificar in lista:\n",
        "    print('O número ' + str(verificar) + ' está na lista.')\n",
        "else:\n",
        "    print('O número ' + str(verificar) + ' não está na lista.')"
      ],
      "metadata": {
        "colab": {
          "base_uri": "https://localhost:8080/"
        },
        "id": "PKttWXDrEdmq",
        "outputId": "9754023d-7f79-4c7d-c2d4-a757dff1b4ea"
      },
      "id": "PKttWXDrEdmq",
      "execution_count": null,
      "outputs": [
        {
          "output_type": "stream",
          "name": "stdout",
          "text": [
            "Digite um número: 2.6\n",
            "O número 2.6 não está na lista.\n"
          ]
        }
      ]
    },
    {
      "cell_type": "markdown",
      "id": "c7126906",
      "metadata": {
        "id": "c7126906"
      },
      "source": [
        "## Exercício 43: Crie uma lista de números e calcule a média."
      ]
    },
    {
      "cell_type": "code",
      "source": [
        "numeros = [7]\n",
        "for i in range(7):\n",
        "    numeros.append(float(input('Digite um número: ')))\n",
        "\n",
        "media = sum(numeros) / len(numeros)\n",
        "print('\\n')\n",
        "print('Média: ',round(media,3))"
      ],
      "metadata": {
        "colab": {
          "base_uri": "https://localhost:8080/"
        },
        "id": "A4eOU2TtFEYS",
        "outputId": "50f48636-3829-4fdb-f4f7-714b697b535e"
      },
      "id": "A4eOU2TtFEYS",
      "execution_count": null,
      "outputs": [
        {
          "output_type": "stream",
          "name": "stdout",
          "text": [
            "Digite um número: 7\n",
            "Digite um número: 8\n",
            "Digite um número: 100\n",
            "Digite um número: -84.65\n",
            "Digite um número: 0\n",
            "Digite um número: 23\n",
            "Digite um número: 7\n",
            "\n",
            "\n",
            "Média:  8.419\n"
          ]
        }
      ]
    },
    {
      "cell_type": "markdown",
      "id": "b3d38297",
      "metadata": {
        "id": "b3d38297"
      },
      "source": [
        "## Exercício 44: Crie uma lista de nomes e converta todos para maiúsculas."
      ]
    },
    {
      "cell_type": "code",
      "source": [
        "lista = []\n",
        "for i in range(5):\n",
        "    lista.append(str(input('Digite uma palavra: ')))\n",
        "    lista[i] = lista[i].upper()\n",
        "\n",
        "print('\\n')\n",
        "print(lista)"
      ],
      "metadata": {
        "colab": {
          "base_uri": "https://localhost:8080/"
        },
        "id": "Y70rcNVtGcDP",
        "outputId": "0ff54d01-8086-4442-dfbb-9cf05d9b8d2e"
      },
      "id": "Y70rcNVtGcDP",
      "execution_count": null,
      "outputs": [
        {
          "output_type": "stream",
          "name": "stdout",
          "text": [
            "Digite uma palavra: Azul\n",
            "Digite uma palavra: green\n",
            "Digite uma palavra: rx\n",
            "Digite uma palavra: cão\n",
            "Digite uma palavra: cutia\n",
            "\n",
            "\n",
            "['AZUL', 'GREEN', 'RX', 'CÃO', 'CUTIA']\n"
          ]
        }
      ]
    },
    {
      "cell_type": "markdown",
      "id": "7217ec03",
      "metadata": {
        "id": "7217ec03"
      },
      "source": [
        "## Exercício 45: Crie uma lista de números e remova os duplicados."
      ]
    },
    {
      "cell_type": "code",
      "source": [
        "lista = []\n",
        "for i in range(8):\n",
        "    lista.append(float(input('Digite um número: ')))\n",
        "    lista_sem_duplicatas = list(set(lista))\n",
        "\n",
        "print('\\n')\n",
        "print(lista_sem_duplicatas)"
      ],
      "metadata": {
        "colab": {
          "base_uri": "https://localhost:8080/"
        },
        "id": "-TeL3KTAGxd9",
        "outputId": "6b2fbbf4-365f-46ef-878e-9e684fc89b31"
      },
      "id": "-TeL3KTAGxd9",
      "execution_count": null,
      "outputs": [
        {
          "output_type": "stream",
          "name": "stdout",
          "text": [
            "Digite um número: 4\n",
            "Digite um número: 4\n",
            "Digite um número: 4\n",
            "Digite um número: 5\n",
            "Digite um número: 5\n",
            "Digite um número: 6\n",
            "Digite um número: 6\n",
            "Digite um número: 1\n",
            "\n",
            "\n",
            "[1.0, 4.0, 5.0, 6.0]\n"
          ]
        }
      ]
    },
    {
      "cell_type": "markdown",
      "id": "c508fdb6",
      "metadata": {
        "id": "c508fdb6"
      },
      "source": [
        "## Exercício 46: Crie um dicionário com nomes de alunos e suas notas e exiba a nota de um aluno específico."
      ]
    },
    {
      "cell_type": "code",
      "source": [
        "# Criação do dicionário com nomes de alunos e suas notas\n",
        "notas_alunos = {\n",
        "    \"João\": 8.5,\n",
        "    \"Maria\": 9.2,\n",
        "    \"José\": 7.8,\n",
        "    \"Ana\": 10.0\n",
        "}\n",
        "\n",
        "# Escolhe um nome de aluno para buscar a nota\n",
        "nome_aluno = str(input('Digite o nome do aluno: '))\n",
        "\n",
        "# Verifica se o nome do aluno existe no dicionário\n",
        "if nome_aluno in notas_alunos:\n",
        "    # Se existir, imprime a nota do aluno\n",
        "    print('A nota de ' +str(nome_aluno) + ' é: ' + str(notas_alunos[nome_aluno]))\n",
        "else:\n",
        "    # Se não existir, informa que o aluno não foi encontrado\n",
        "    print('Aluno ' + str(nome_aluno) + ' não encontrado no dicionário.')"
      ],
      "metadata": {
        "colab": {
          "base_uri": "https://localhost:8080/"
        },
        "id": "Fv4Df8U4jGuh",
        "outputId": "71e34893-b317-4505-f069-7fef9c4be5bb"
      },
      "id": "Fv4Df8U4jGuh",
      "execution_count": 5,
      "outputs": [
        {
          "output_type": "stream",
          "name": "stdout",
          "text": [
            "Digite o nome do aluno: Ana\n",
            "A nota de Ana é: 10.0\n"
          ]
        }
      ]
    },
    {
      "cell_type": "markdown",
      "id": "0bfb53d7",
      "metadata": {
        "id": "0bfb53d7"
      },
      "source": [
        "## Exercício 47: Adicione um novo aluno e sua nota a um dicionário."
      ]
    },
    {
      "cell_type": "code",
      "source": [
        "notas_alunos = {\n",
        "    \"João\": 8.5,\n",
        "    \"Maria\": 9.2,\n",
        "    \"José\": 7.8,\n",
        "    \"Ana\": 10.0\n",
        "}\n",
        "notas_alunos['Carlos'] = 8.5\n",
        "notas_alunos['Lúcia'] = 9.2\n",
        "notas_alunos['Pedro'] = 7.8\n",
        "notas_alunos['Fernanda'] = 10.0\n",
        "print(notas_alunos)"
      ],
      "metadata": {
        "colab": {
          "base_uri": "https://localhost:8080/"
        },
        "id": "wyBwaG-i46SR",
        "outputId": "02ce927a-64f9-4d02-d830-06e0d5b660f3"
      },
      "id": "wyBwaG-i46SR",
      "execution_count": 9,
      "outputs": [
        {
          "output_type": "stream",
          "name": "stdout",
          "text": [
            "{'João': 8.5, 'Maria': 9.2, 'José': 7.8, 'Ana': 10.0, 'Carlos': 8.5, 'Lúcia': 9.2, 'Pedro': 7.8, 'Fernanda': 10.0}\n"
          ]
        }
      ]
    },
    {
      "cell_type": "markdown",
      "id": "366e0034",
      "metadata": {
        "id": "366e0034"
      },
      "source": [
        "## Exercício 48: Remova um aluno do dicionário."
      ]
    },
    {
      "cell_type": "code",
      "source": [
        "notas_alunos = {\n",
        "    \"João\": 8.5,\n",
        "    \"Maria\": 9.2,\n",
        "    \"José\": 7.8,\n",
        "    \"Ana\": 10.0\n",
        "}\n",
        "notas_alunos.pop('Maria')\n",
        "print(notas_alunos)"
      ],
      "metadata": {
        "colab": {
          "base_uri": "https://localhost:8080/"
        },
        "id": "BRaWKQQT6sHj",
        "outputId": "489aa20c-cc0f-4643-dbef-9de1b735e9b6"
      },
      "id": "BRaWKQQT6sHj",
      "execution_count": 10,
      "outputs": [
        {
          "output_type": "stream",
          "name": "stdout",
          "text": [
            "{'João': 8.5, 'José': 7.8, 'Ana': 10.0}\n"
          ]
        }
      ]
    },
    {
      "cell_type": "markdown",
      "id": "6dc1e9fa",
      "metadata": {
        "id": "6dc1e9fa"
      },
      "source": [
        "## Exercício 49: Percorra um dicionário e imprima suas chaves e valores."
      ]
    },
    {
      "cell_type": "code",
      "source": [
        "pessoa = {'nome': 'Estebán', 'altura': 1.76, 'idade': 21}\n",
        "print(pessoa)\n"
      ],
      "metadata": {
        "colab": {
          "base_uri": "https://localhost:8080/"
        },
        "id": "onWPBw1z64jg",
        "outputId": "adb61e07-a56f-4bd4-eee1-675881e88a5e"
      },
      "id": "onWPBw1z64jg",
      "execution_count": 17,
      "outputs": [
        {
          "output_type": "stream",
          "name": "stdout",
          "text": [
            "{'nome': 'Estebán', 'altura': 1.76, 'idade': 21}\n"
          ]
        }
      ]
    },
    {
      "cell_type": "markdown",
      "id": "5757f1ac",
      "metadata": {
        "id": "5757f1ac"
      },
      "source": [
        "## Exercício 50: Verifique se uma chave existe no dicionário."
      ]
    },
    {
      "cell_type": "code",
      "source": [
        "pessoa = {'nome': 'Estebán', 'altura': 1.76, 'idade': 21}\n",
        "pessoa['nome'] = str(input('Digite o nome: '))\n",
        "print('\\n')\n",
        "\n",
        "if pessoa['nome'] == 'Estebán':\n",
        "    print(pessoa)\n",
        "else:\n",
        "    print(str(pessoa['nome']) + ' não foi encontrado no dicionário.')\n",
        "\n"
      ],
      "metadata": {
        "colab": {
          "base_uri": "https://localhost:8080/"
        },
        "id": "UulVAyS88ujG",
        "outputId": "de833850-4fc3-46dc-d2f3-5c5c72963e2b"
      },
      "id": "UulVAyS88ujG",
      "execution_count": 27,
      "outputs": [
        {
          "output_type": "stream",
          "name": "stdout",
          "text": [
            "Digite o nome: Luan\n",
            "\n",
            "\n",
            "Luan não foi encontrado no dicionário.\n"
          ]
        }
      ]
    },
    {
      "cell_type": "markdown",
      "source": [],
      "metadata": {
        "id": "ufm-e2WG63By"
      },
      "id": "ufm-e2WG63By"
    }
  ],
  "metadata": {
    "colab": {
      "provenance": []
    },
    "language_info": {
      "name": "python"
    },
    "kernelspec": {
      "name": "python3",
      "display_name": "Python 3"
    }
  },
  "nbformat": 4,
  "nbformat_minor": 5
}